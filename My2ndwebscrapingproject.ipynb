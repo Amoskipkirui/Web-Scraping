{
 "cells": [
  {
   "attachments": {},
   "cell_type": "markdown",
   "metadata": {},
   "source": [
    "This is a web scraping project.\n"
   ]
  },
  {
   "attachments": {},
   "cell_type": "markdown",
   "metadata": {},
   "source": [
    "## imports"
   ]
  },
  {
   "cell_type": "code",
   "execution_count": 28,
   "metadata": {},
   "outputs": [],
   "source": [
    "from bs4 import BeautifulSoup\n",
    "import requests\n",
    "import pandas as pd"
   ]
  },
  {
   "attachments": {},
   "cell_type": "markdown",
   "metadata": {},
   "source": [
    "### Make a get request to retrieve the page"
   ]
  },
  {
   "cell_type": "code",
   "execution_count": 29,
   "metadata": {},
   "outputs": [],
   "source": [
    "html_page = requests.get('https://www.marketwatch.com/tools/screener/premarket') \n",
    "soup = BeautifulSoup(html_page.text, 'html.parser')"
   ]
  },
  {
   "attachments": {},
   "cell_type": "markdown",
   "metadata": {},
   "source": [
    "### If we access directly i.e span class_label, there are three more which are the same so we access the before line."
   ]
  },
  {
   "cell_type": "code",
   "execution_count": 30,
   "metadata": {},
   "outputs": [],
   "source": [
    "title = soup.find_all('h1', class_ = 'title')#  from the above line of code, we get this; \n",
    "# <h1 class=\"title\">     \n",
    "#<span class=\"label\">Premarket Screener</span>\n",
    "#</h1>"
   ]
  },
  {
   "cell_type": "code",
   "execution_count": 31,
   "metadata": {},
   "outputs": [
    {
     "name": "stdout",
     "output_type": "stream",
     "text": [
      "\n",
      "Premarket Screener\n",
      "\n"
     ]
    }
   ],
   "source": [
    "\n",
    "for x in title:\n",
    "    print (x.text) # prints i.e Premarket Screener"
   ]
  },
  {
   "attachments": {},
   "cell_type": "markdown",
   "metadata": {},
   "source": [
    "### let's extract our table of interest."
   ]
  },
  {
   "cell_type": "code",
   "execution_count": 32,
   "metadata": {},
   "outputs": [],
   "source": [
    "table = soup.find_all('div', class_ = 'element element--table table--fixed screener-table')"
   ]
  },
  {
   "attachments": {},
   "cell_type": "markdown",
   "metadata": {},
   "source": [
    "### names of the columns"
   ]
  },
  {
   "cell_type": "code",
   "execution_count": 33,
   "metadata": {},
   "outputs": [],
   "source": [
    "column_headers = ['Symbol','Company Name', 'Price','Volume', 'change$', 'change%']"
   ]
  },
  {
   "attachments": {},
   "cell_type": "markdown",
   "metadata": {},
   "source": [
    "### We  then  pass these to a dataframe."
   ]
  },
  {
   "cell_type": "code",
   "execution_count": 34,
   "metadata": {},
   "outputs": [],
   "source": [
    "dataframe = pd.DataFrame(columns= column_headers)"
   ]
  },
  {
   "attachments": {},
   "cell_type": "markdown",
   "metadata": {},
   "source": [
    "### variables to store the column headers"
   ]
  },
  {
   "cell_type": "code",
   "execution_count": 35,
   "metadata": {},
   "outputs": [],
   "source": [
    "symbol = ''\n",
    "company_name = ''\n",
    "price = ''\n",
    "volume = ''\n",
    "change = ''\n",
    "change_percent = 0 # initializing change_percent to 0 makes it an interger"
   ]
  },
  {
   "attachments": {},
   "cell_type": "markdown",
   "metadata": {},
   "source": [
    "### To remove hyperlinks in the rows use the below code;"
   ]
  },
  {
   "cell_type": "code",
   "execution_count": 36,
   "metadata": {},
   "outputs": [],
   "source": [
    "for tr in soup.select ('a'):\n",
    "    tr.extract()"
   ]
  },
  {
   "attachments": {},
   "cell_type": "markdown",
   "metadata": {},
   "source": [
    "### loops through all the data in table rows(tr) i.e table data(td)"
   ]
  },
  {
   "cell_type": "code",
   "execution_count": 37,
   "metadata": {},
   "outputs": [
    {
     "name": "stdout",
     "output_type": "stream",
     "text": [
      "  Symbol                        Company Name    Price Volume change$  change%\n",
      "0    RNR         RenaissanceRe Holdings Ltd.  $211.82     12   14.90     7.57\n",
      "1    HXL                        Hexcel Corp.   $73.14     80    5.11     7.51\n",
      "2    HII  Huntington Ingalls Industries Inc.  $216.83     68   11.57     5.64\n",
      "3    PPG                 PPG Industries Inc.  $133.64     32    7.09     5.60\n",
      "4    DOV                         Dover Corp.  $147.79     14    7.03     4.99\n",
      "5    SNX                     TD SYNNEX Corp.   $96.37     55    4.58     4.99\n",
      "6   WELL                      Welltower Inc.   $74.28    228    3.43     4.84\n",
      "7    TMO       Thermo Fisher Scientific Inc.  $581.96     15   24.87     4.46\n",
      "8    LAZ                         Lazard Ltd.   $34.83      2    1.42     4.25\n",
      "9    RPM              RPM International Inc.   $88.47      2    3.49     4.11\n"
     ]
    }
   ],
   "source": [
    "\n",
    "i = 1 # iterator\n",
    "for tr in table[0].find_all ('tr'):\n",
    "   i = 0\n",
    "# loops through all the data in table rows(tr) i.e table data(td)\n",
    "   for td in tr.find_all('td'):\n",
    "      i=i+1\n",
    "      if (i==1):\n",
    "          symbol = td.text.replace('\\n', '')\n",
    "      if (i==2):\n",
    "          company_name = td.text.replace('\\n', '')\n",
    "      if (i==3):\n",
    "          price = td.text.replace('\\n', '')\n",
    "      if (i==4):\n",
    "          volume = td.text.replace('\\n', '')\n",
    "      if (i==5):\n",
    "          change = td.text.replace('\\n', '')\n",
    "      if (i==6):\n",
    "          change_percent = float(td.text.replace('\\n', '').replace ('%','') ) \n",
    "   if (symbol!= ''):\n",
    "          dataframe = dataframe.append(\n",
    "          pd.Series ([\n",
    "          symbol,\n",
    "          company_name,\n",
    "          price,\n",
    "          volume,\n",
    "          change,\n",
    "          change_percent \n",
    "          ],\n",
    "          index= column_headers),\n",
    "          ignore_index = True)\n",
    "dataframe.sort_values('change%', axis = 0, ascending = False, inplace = True, na_position = 'last')\n",
    "print(dataframe)"
   ]
  }
 ],
 "metadata": {
  "kernelspec": {
   "display_name": "learn-envv",
   "language": "python",
   "name": "python3"
  },
  "language_info": {
   "codemirror_mode": {
    "name": "ipython",
    "version": 3
   },
   "file_extension": ".py",
   "mimetype": "text/x-python",
   "name": "python",
   "nbconvert_exporter": "python",
   "pygments_lexer": "ipython3",
   "version": "3.8.5"
  },
  "orig_nbformat": 4
 },
 "nbformat": 4,
 "nbformat_minor": 2
}
